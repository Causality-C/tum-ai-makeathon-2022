{
 "cells": [
  {
   "cell_type": "code",
   "execution_count": 4,
   "metadata": {},
   "outputs": [
    {
     "name": "stdout",
     "output_type": "stream",
     "text": [
      "<class 'numpy.ndarray'>\n",
      "(320, 389, 3)\n"
     ]
    }
   ],
   "source": [
    "from utils import inference_single_image\n",
    "import cv2\n",
    "\n",
    "path = \"densenet121_valid.pth\"\n",
    "image = cv2.imread(\"view1_frontal.jpg\")\n",
    "print(type(image))\n",
    "print(image.shape)"
   ]
  },
  {
   "cell_type": "code",
   "execution_count": null,
   "metadata": {},
   "outputs": [],
   "source": [
    "pred = inference_single_image(path, image)"
   ]
  }
 ],
 "metadata": {
  "kernelspec": {
   "display_name": "Python 3.9.5 ('fer_env')",
   "language": "python",
   "name": "python3"
  },
  "language_info": {
   "codemirror_mode": {
    "name": "ipython",
    "version": 3
   },
   "file_extension": ".py",
   "mimetype": "text/x-python",
   "name": "python",
   "nbconvert_exporter": "python",
   "pygments_lexer": "ipython3",
   "version": "3.9.5"
  },
  "orig_nbformat": 4,
  "vscode": {
   "interpreter": {
    "hash": "92de8136c15160aada348e7d34d873050285ea18cf6049881f9153da82ac6e62"
   }
  }
 },
 "nbformat": 4,
 "nbformat_minor": 2
}
